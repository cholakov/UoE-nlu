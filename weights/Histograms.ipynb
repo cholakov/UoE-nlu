{
 "cells": [
  {
   "cell_type": "code",
   "execution_count": 1,
   "metadata": {},
   "outputs": [],
   "source": [
    "import numpy as np\n",
    "import matplotlib.pyplot as plt\n",
    "plt.style.use('fivethirtyeight')"
   ]
  },
  {
   "cell_type": "code",
   "execution_count": 2,
   "metadata": {},
   "outputs": [],
   "source": [
    "def dataset(fname):\n",
    "    hists = []\n",
    "    cnt = 0\n",
    "    with open(fname) as f:\n",
    "        for line in f:\n",
    "            if cnt == 0:\n",
    "                cnt += 1\n",
    "                continue\n",
    "            items = line.strip().split('\\t')\n",
    "            verb_idx = int(items[2])\n",
    "            noun_idx = int(items[1])\n",
    "            diff = verb_idx - noun_idx\n",
    "            hists.append(diff)\n",
    "    return hists"
   ]
  },
  {
   "cell_type": "code",
   "execution_count": 8,
   "metadata": {},
   "outputs": [],
   "source": [
    "x = dataset('data/wiki-test.txt')"
   ]
  },
  {
   "cell_type": "code",
   "execution_count": 9,
   "metadata": {},
   "outputs": [
    {
     "data": {
      "image/png": "[encoded data removed]",
      "text/plain": [
       "<Figure size 432x288 with 1 Axes>"
      ]
     },
     "metadata": {},
     "output_type": "display_data"
    }
   ],
   "source": [
    "bins = [1,2,3,4,5,6,7,8,9,10,11]\n",
    "plt.hist(np.clip(x, bins[0], bins[-1]),rwidth=0.5, bins=bins)\n",
    "bin_labels =[\"1\",\"2\",\"3\",\"4\",\"5\",\"6\",\"7\",\"8\",\"9\",\"10+\"]\n",
    "plt.xticks(np.arange(1,11)+0.5, bin_labels)\n",
    "plt.xticks()\n",
    "plt.title(\"Test\")\n",
    "plt.savefig(\"test.png\")"
   ]
  },
  {
   "cell_type": "code",
   "execution_count": null,
   "metadata": {},
   "outputs": [],
   "source": []
  }
 ],
 "metadata": {
  "kernelspec": {
   "display_name": "Python 3",
   "language": "python",
   "name": "python3"
  },
  "language_info": {
   "codemirror_mode": {
    "name": "ipython",
    "version": 3
   },
   "file_extension": ".py",
   "mimetype": "text/x-python",
   "name": "python",
   "nbconvert_exporter": "python",
   "pygments_lexer": "ipython3",
   "version": "3.6.4"
  }
 },
 "nbformat": 4,
 "nbformat_minor": 2
}
